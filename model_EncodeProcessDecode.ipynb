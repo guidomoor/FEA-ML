{
  "nbformat": 4,
  "nbformat_minor": 0,
  "metadata": {
    "colab": {
      "provenance": [],
      "authorship_tag": "ABX9TyOMI2NzGp0V4v40Ttp1jQSD",
      "include_colab_link": true
    },
    "kernelspec": {
      "name": "python3",
      "display_name": "Python 3"
    },
    "language_info": {
      "name": "python"
    }
  },
  "cells": [
    {
      "cell_type": "markdown",
      "metadata": {
        "id": "view-in-github",
        "colab_type": "text"
      },
      "source": [
        "<a href=\"https://colab.research.google.com/github/guidomoor/FEA-ML/blob/main/model_EncodeProcessDecode.ipynb\" target=\"_parent\"><img src=\"https://colab.research.google.com/assets/colab-badge.svg\" alt=\"Open In Colab\"/></a>"
      ]
    },
    {
      "cell_type": "markdown",
      "source": [
        "# GNN for Displacement/stress field predictions\n",
        "Model definition\n",
        "\n",
        "Graph : = (edge_index, node_features, edge_features)\n"
      ],
      "metadata": {
        "id": "vpLruffgeJBQ"
      }
    },
    {
      "cell_type": "code",
      "source": [
        "!pip install torch-geometric"
      ],
      "metadata": {
        "colab": {
          "base_uri": "https://localhost:8080/"
        },
        "id": "J5iP4fhed9qC",
        "outputId": "9b905a5c-1e51-44e9-a92a-3dc081e5799d"
      },
      "execution_count": 2,
      "outputs": [
        {
          "output_type": "stream",
          "name": "stdout",
          "text": [
            "Collecting torch-geometric\n",
            "  Downloading torch_geometric-2.6.1-py3-none-any.whl.metadata (63 kB)\n",
            "\u001b[?25l     \u001b[90m━━━━━━━━━━━━━━━━━━━━━━━━━━━━━━━━━━━━━━━━\u001b[0m \u001b[32m0.0/63.1 kB\u001b[0m \u001b[31m?\u001b[0m eta \u001b[36m-:--:--\u001b[0m\r\u001b[2K     \u001b[90m━━━━━━━━━━━━━━━━━━━━━━━━━━━━━━━━━━━━━━━━\u001b[0m \u001b[32m63.1/63.1 kB\u001b[0m \u001b[31m1.9 MB/s\u001b[0m eta \u001b[36m0:00:00\u001b[0m\n",
            "\u001b[?25hRequirement already satisfied: aiohttp in /usr/local/lib/python3.10/dist-packages (from torch-geometric) (3.10.10)\n",
            "Requirement already satisfied: fsspec in /usr/local/lib/python3.10/dist-packages (from torch-geometric) (2024.6.1)\n",
            "Requirement already satisfied: jinja2 in /usr/local/lib/python3.10/dist-packages (from torch-geometric) (3.1.4)\n",
            "Requirement already satisfied: numpy in /usr/local/lib/python3.10/dist-packages (from torch-geometric) (1.26.4)\n",
            "Requirement already satisfied: psutil>=5.8.0 in /usr/local/lib/python3.10/dist-packages (from torch-geometric) (5.9.5)\n",
            "Requirement already satisfied: pyparsing in /usr/local/lib/python3.10/dist-packages (from torch-geometric) (3.2.0)\n",
            "Requirement already satisfied: requests in /usr/local/lib/python3.10/dist-packages (from torch-geometric) (2.32.3)\n",
            "Requirement already satisfied: tqdm in /usr/local/lib/python3.10/dist-packages (from torch-geometric) (4.66.5)\n",
            "Requirement already satisfied: aiohappyeyeballs>=2.3.0 in /usr/local/lib/python3.10/dist-packages (from aiohttp->torch-geometric) (2.4.3)\n",
            "Requirement already satisfied: aiosignal>=1.1.2 in /usr/local/lib/python3.10/dist-packages (from aiohttp->torch-geometric) (1.3.1)\n",
            "Requirement already satisfied: attrs>=17.3.0 in /usr/local/lib/python3.10/dist-packages (from aiohttp->torch-geometric) (24.2.0)\n",
            "Requirement already satisfied: frozenlist>=1.1.1 in /usr/local/lib/python3.10/dist-packages (from aiohttp->torch-geometric) (1.4.1)\n",
            "Requirement already satisfied: multidict<7.0,>=4.5 in /usr/local/lib/python3.10/dist-packages (from aiohttp->torch-geometric) (6.1.0)\n",
            "Requirement already satisfied: yarl<2.0,>=1.12.0 in /usr/local/lib/python3.10/dist-packages (from aiohttp->torch-geometric) (1.15.4)\n",
            "Requirement already satisfied: async-timeout<5.0,>=4.0 in /usr/local/lib/python3.10/dist-packages (from aiohttp->torch-geometric) (4.0.3)\n",
            "Requirement already satisfied: MarkupSafe>=2.0 in /usr/local/lib/python3.10/dist-packages (from jinja2->torch-geometric) (3.0.2)\n",
            "Requirement already satisfied: charset-normalizer<4,>=2 in /usr/local/lib/python3.10/dist-packages (from requests->torch-geometric) (3.4.0)\n",
            "Requirement already satisfied: idna<4,>=2.5 in /usr/local/lib/python3.10/dist-packages (from requests->torch-geometric) (3.10)\n",
            "Requirement already satisfied: urllib3<3,>=1.21.1 in /usr/local/lib/python3.10/dist-packages (from requests->torch-geometric) (2.2.3)\n",
            "Requirement already satisfied: certifi>=2017.4.17 in /usr/local/lib/python3.10/dist-packages (from requests->torch-geometric) (2024.8.30)\n",
            "Requirement already satisfied: typing-extensions>=4.1.0 in /usr/local/lib/python3.10/dist-packages (from multidict<7.0,>=4.5->aiohttp->torch-geometric) (4.12.2)\n",
            "Requirement already satisfied: propcache>=0.2.0 in /usr/local/lib/python3.10/dist-packages (from yarl<2.0,>=1.12.0->aiohttp->torch-geometric) (0.2.0)\n",
            "Downloading torch_geometric-2.6.1-py3-none-any.whl (1.1 MB)\n",
            "\u001b[2K   \u001b[90m━━━━━━━━━━━━━━━━━━━━━━━━━━━━━━━━━━━━━━━━\u001b[0m \u001b[32m1.1/1.1 MB\u001b[0m \u001b[31m18.9 MB/s\u001b[0m eta \u001b[36m0:00:00\u001b[0m\n",
            "\u001b[?25hInstalling collected packages: torch-geometric\n",
            "Successfully installed torch-geometric-2.6.1\n"
          ]
        }
      ]
    },
    {
      "cell_type": "code",
      "source": [
        "import torch\n",
        "import torch.nn as nn\n",
        "import torch_geometric\n",
        "from torch.nn import Sequential, Linear, ReLU, LayerNorm, LSTM, GRU\n",
        "from torch_geometric.nn import MessagePassing\n",
        "import functools\n",
        "import collections\n",
        "from torch_geometric.data import Data"
      ],
      "metadata": {
        "id": "m8pRuVVveAse"
      },
      "execution_count": 8,
      "outputs": []
    },
    {
      "cell_type": "code",
      "source": [
        "class GraphNetBlock(MessagePassing):\n",
        "  def __init__(self, latent_size, in_size1, in_size2):   #latent_size for the hidden layers, in_size 1-2 for the input dimensions\n",
        "    super(GraphNetBlock, self).__init__(aggr='add')      #aggregation of messages will be done by summing them\n",
        "    self._latent_size = latent_size #stores latent size to be used in the MLPs (multyple layer perception)\n",
        "\n",
        "    # First net (MLP): eij' = f1(xi, xj, eij)\n",
        "    self.edge_net = Sequential(Linear(in_size1,self._latent_size),\n",
        "                                   ReLU(),\n",
        "                                   Linear(self._latent_size,self._latent_size),\n",
        "                                   ReLU(),\n",
        "                                   LayerNorm(self._latent_size))\n",
        "\n",
        "    # Second net (MLP): xi' = f2(xi, sum(eij'))\n",
        "    self.node_net = Sequential(Linear(in_size2,self._latent_size),\n",
        "                                   ReLU(),\n",
        "                                   Linear(self._latent_size,self._latent_size),\n",
        "                                   ReLU(),\n",
        "                                   LayerNorm(self._latent_size))\n",
        "\n",
        "  def forward(self, graph):\n",
        "    edge_index = graph.edge_index\n",
        "    x = graph.x\n",
        "    edge_features = graph.edge_attr\n",
        "\n",
        "    #node update\n",
        "    new_node_features = self.propagate(edge_index, x=x, edge_attr=edge_features)\n",
        "\n",
        "    #edge update\n",
        "    row, col = edge_index\n",
        "    new_edge_features = self.edge_net(torch.cat([x[row], x[col], edge_features], dim=-1))\n",
        "\n",
        "    # Add residuals\n",
        "    new_node_features = new_node_features + graph.x\n",
        "    new_edge_features = new_edge_features + graph.edge_attr\n",
        "\n",
        "    # return Graph(edge_index, new_node_features,new_edge_features)\n",
        "    return Data(edge_index = edge_index, x = new_node_features, edge_attr = new_edge_features)\n",
        "\n",
        "  def message(self, x_i, x_j, edge_attr):\n",
        "      features = torch.cat([x_i, x_j, edge_attr], dim=-1)\n",
        "\n",
        "      return self.edge_net(features)\n",
        "\n",
        "  def update(self, aggr_out, x):\n",
        "      # aggr_out has shape [num_nodes, out_channels]\n",
        "      tmp = torch.cat([aggr_out, x], dim=-1)\n",
        "\n",
        "      # Step 5: Return new node embeddings.\n",
        "      return self.node_net(tmp)"
      ],
      "metadata": {
        "id": "y6ZX3_c2ewi5"
      },
      "execution_count": 5,
      "outputs": []
    },
    {
      "cell_type": "code",
      "source": [
        "class EncodeProcessDecode(nn.Module): #Encode-Process-Decode GraphNet model.\n",
        "\n",
        "    def __init__(self,\n",
        "                 node_feat_size,\n",
        "                 edge_feat_size,\n",
        "                 output_size,\n",
        "                 latent_size,\n",
        "                 message_passing_steps,\n",
        "                 window,\n",
        "                 name='EncodeProcessDecode'):\n",
        "        super(EncodeProcessDecode, self).__init__()\n",
        "        self._node_feat_size = node_feat_size\n",
        "        self._edge_feat_size = edge_feat_size\n",
        "        self._latent_size = latent_size\n",
        "        self._output_size = output_size\n",
        "        self._message_passing_steps = message_passing_steps\n",
        "        self._window = window\n",
        "\n",
        "        # Encoding net (MLP) for node_features\n",
        "        self.node_encode_net = Sequential(Linear(self._node_feat_size,self._latent_size),\n",
        "                         ReLU(),\n",
        "                         Linear(self._latent_size,self._latent_size),\n",
        "                         ReLU(),\n",
        "                         LayerNorm(self._latent_size))\n",
        "\n",
        "        # Encoding net (MLP) for edge_features\n",
        "        self.edge_encode_net = Sequential(Linear(self._edge_feat_size,self._latent_size),\n",
        "                         ReLU(),\n",
        "                         Linear(self._latent_size,self._latent_size),\n",
        "                         ReLU(),\n",
        "                         LayerNorm(self._latent_size))\n",
        "\n",
        "        # Processor\n",
        "        self.message_pass = GraphNetBlock(self._latent_size, self._latent_size*3, self._latent_size*2)\n",
        "\n",
        "\n",
        "        # Recurrent net\n",
        "        self.recurrent_1 = GRU(self._latent_size, self._latent_size, 1)\n",
        "        self.recurrent_2 = GRU(self._latent_size, self._latent_size, 1)\n",
        "\n",
        "        # Decoding net (MLP) for node_features (output)\n",
        "        self.node_decode_net = Sequential(Linear(3*self._latent_size, self._latent_size),\n",
        "                        ReLU(),\n",
        "                        Linear(self._latent_size,self._output_size))\n",
        "\n",
        "\n",
        "    def forward(self, graph):\n",
        "        \"\"\"Encodes and processes a graph, and returns node features.\"\"\"\n",
        "        edge_index = graph.edge_index\n",
        "        # x = graph.node_features\n",
        "        # edge = graph.edge_features\n",
        "        x = graph.x\n",
        "        edge = graph.edge_attr\n",
        "\n",
        "        # Encoding node features\n",
        "        node_latents = self.node_encode_net(x)\n",
        "\n",
        "        # Encoding edge features\n",
        "        edge_latents = self.edge_encode_net(edge)\n",
        "\n",
        "        latent_graph = Data(edge_index = edge_index, x = node_latents, edge_attr = edge_latents)\n",
        "\n",
        "        # Save node representation before message passing\n",
        "        x = node_latents\n",
        "        S = x.view(-1, self._window, x.size(0), x.size(1))\n",
        "        S = torch.transpose(S, 1, 2)\n",
        "        S = S.reshape(-1, self._window, x.size(1))\n",
        "\n",
        "        O = [S[:, 0, :]]\n",
        "\n",
        "        for l in range(1, self._window):\n",
        "            O.append(S[:, l, x.size(1) - 1].unsqueeze(1))\n",
        "\n",
        "        S = torch.cat(O, dim=1)\n",
        "\n",
        "        # Message passing\n",
        "        for _ in range(self._message_passing_steps):\n",
        "             # latent_graph = GraphNetBlock(self._latent_size, self._latent_size*3, self._latent_size*2)(latent_graph)\n",
        "             latent_graph = self.message_pass(latent_graph)\n",
        "\n",
        "        \"\"\"Update node states with recurrent layers.\"\"\"\n",
        "        x = latent_graph.x\n",
        "\n",
        "        x = x.view(-1, self._window, x.size(0), x.size(1))\n",
        "        x = torch.transpose(x, 0, 1)\n",
        "        x = x.contiguous().view(self._window, -1, x.size(3))\n",
        "\n",
        "        # x, (h_1, c_1) = self.recurrent_1(x)\n",
        "        # x, (h_2, c_2) = self.recurrent_2(x)\n",
        "        x, h_1 = self.recurrent_1(x)\n",
        "        x, h_2 = self.recurrent_2(x)\n",
        "        h = torch.cat([h_1[0,:,:], h_2[0,:,:], S],dim=-1)\n",
        "\n",
        "        decoded_nodes = self.node_decode_net(h)\n",
        "\n",
        "        return decoded_nodes"
      ],
      "metadata": {
        "id": "W8-3nCeNuKqr"
      },
      "execution_count": 9,
      "outputs": []
    }
  ]
}